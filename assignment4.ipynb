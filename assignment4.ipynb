{
 "cells": [
  {
   "cell_type": "code",
   "execution_count": 6,
   "id": "b3c4d2f0-ccf6-47e4-b541-b300e1270026",
   "metadata": {},
   "outputs": [],
   "source": [
    "#Q1. Explain Class and Object with respect to Object-Oriented Programming. Give a suitable example.\n",
    "\n",
    "\n",
    "'''class refers to the refal life object wiyhout specification,it is the blue print.\n",
    "object is a subset of this class ( comes under class) which is defined/specified by programmer..'''\n",
    "\n",
    "class programmer:\n",
    "    def __init__(self, name, language):\n",
    "        \n",
    "        self.name=name\n",
    "        self.language=language\n",
    "    def returnbiodata(self):\n",
    "        return (self.name +\"is\" + self.language+\"programmer\")"
   ]
  },
  {
   "cell_type": "code",
   "execution_count": 10,
   "id": "8fc50d8c-f6db-41b8-a007-2e4aafaac2ab",
   "metadata": {},
   "outputs": [
    {
     "data": {
      "text/plain": [
       "'anirudhispythonprogrammer'"
      ]
     },
     "execution_count": 10,
     "metadata": {},
     "output_type": "execute_result"
    }
   ],
   "source": [
    "ani=programmer(\"anirudh\",\"python\")\n",
    "ani.returnbiodata()   # here ani is object and programmer is class\n"
   ]
  },
  {
   "cell_type": "code",
   "execution_count": 12,
   "id": "d4f02406-ed0e-49c4-83ae-3a2d1b05f70a",
   "metadata": {},
   "outputs": [
    {
     "data": {
      "text/plain": [
       "' encapsulation\\npolymorphism\\nabstraction \\ninheretence'"
      ]
     },
     "execution_count": 12,
     "metadata": {},
     "output_type": "execute_result"
    }
   ],
   "source": [
    "#Q2. Name the four pillars of OOPs.\n",
    "\n",
    "''' encapsulation\n",
    "polymorphism\n",
    "abstraction \n",
    "inheretence'''"
   ]
  },
  {
   "cell_type": "code",
   "execution_count": 20,
   "id": "59b262f1-c274-4590-8f6e-8b02781d584e",
   "metadata": {},
   "outputs": [],
   "source": [
    "#Q3. Explain why the __init__() function is used. Give a suitable example.\n",
    "\n",
    "\n",
    "'''The __init__() function is used in Python to initialize or set the initial values of attributes for an object created from a class. It is called a constructor'''\n",
    "class student:\n",
    "    def __init__(self, name,std):\n",
    "        self. name=name\n",
    "        self.std=std\n",
    "    def returndetail(self):\n",
    "        return(self.name,self.std)"
   ]
  },
  {
   "cell_type": "code",
   "execution_count": 21,
   "id": "c422eac2-c237-4445-b37a-431f62a568f3",
   "metadata": {},
   "outputs": [],
   "source": [
    "a=student('amith',8)"
   ]
  },
  {
   "cell_type": "code",
   "execution_count": 22,
   "id": "db8b7018-f6ea-45ae-bf27-15044cde5516",
   "metadata": {},
   "outputs": [
    {
     "data": {
      "text/plain": [
       "('amith', 8)"
      ]
     },
     "execution_count": 22,
     "metadata": {},
     "output_type": "execute_result"
    }
   ],
   "source": [
    "a.returndetail()"
   ]
  },
  {
   "cell_type": "code",
   "execution_count": 24,
   "id": "c75d2b95-320e-4903-85b4-36d60aeb7c31",
   "metadata": {},
   "outputs": [
    {
     "data": {
      "text/plain": [
       "'self is a special word that refers to the current instance of the class. It is used to access the attributes and methods of an object from within its own class definition'"
      ]
     },
     "execution_count": 24,
     "metadata": {},
     "output_type": "execute_result"
    }
   ],
   "source": [
    "#Q4. Why self is used in OQ4. \n",
    "'''self is a special word that refers to the current instance of the class. It is used to access the attributes and methods of an object from within its own class definition'''"
   ]
  },
  {
   "cell_type": "code",
   "execution_count": 25,
   "id": "05d37826-7f2a-4ba4-859e-ef4ac12f55ec",
   "metadata": {},
   "outputs": [
    {
     "name": "stdout",
     "output_type": "stream",
     "text": [
      "Car engine started\n",
      "Motorcycle engine started\n",
      "Toyota\n",
      "2020\n"
     ]
    }
   ],
   "source": [
    "#Q5. What is inheritance? Give an example for each type of inheritance.\n",
    "\n",
    "'''Inheritance: This is the mechanism that allows a class to inherit properties (methods and attributes) from another class. Inheritance provides a way to reuse code, improve code organization, and create more specialized classes from existing ones.'''\n",
    "class Vehicle:\n",
    "    def __init__(self, make, model, year):\n",
    "        self.make = make\n",
    "        self.model = model\n",
    "        self.year = year\n",
    "\n",
    "    def start_engine(self):\n",
    "        print(\"Engine started\")\n",
    "\n",
    "class Car(Vehicle):\n",
    "    def __init__(self, make, model, year, num_doors):\n",
    "        super().__init__(make, model, year)\n",
    "        self.num_doors = num_doors\n",
    "\n",
    "    def start_engine(self):\n",
    "        print(\"Car engine started\")\n",
    "\n",
    "class Motorcycle(Vehicle):\n",
    "    def __init__(self, make, model, year, num_wheels):\n",
    "        super().__init__(make, model, year)\n",
    "        self.num_wheels = num_wheels\n",
    "\n",
    "    def start_engine(self):\n",
    "        print(\"Motorcycle engine started\")\n",
    "\n",
    "car = Car(\"Toyota\", \"Corolla\", 2021, 4)\n",
    "motorcycle = Motorcycle(\"Harley-Davidson\", \"Sportster\", 2020, 2)\n",
    "\n",
    "car.start_engine()  \n",
    "motorcycle.start_engine() \n",
    "print(car.make) \n",
    "print(motorcycle.year) \n",
    "\n"
   ]
  },
  {
   "cell_type": "code",
   "execution_count": null,
   "id": "0971e9c2-1f0b-4970-b9bd-c1011758a211",
   "metadata": {},
   "outputs": [],
   "source": []
  }
 ],
 "metadata": {
  "kernelspec": {
   "display_name": "Python 3 (ipykernel)",
   "language": "python",
   "name": "python3"
  },
  "language_info": {
   "codemirror_mode": {
    "name": "ipython",
    "version": 3
   },
   "file_extension": ".py",
   "mimetype": "text/x-python",
   "name": "python",
   "nbconvert_exporter": "python",
   "pygments_lexer": "ipython3",
   "version": "3.10.8"
  }
 },
 "nbformat": 4,
 "nbformat_minor": 5
}
